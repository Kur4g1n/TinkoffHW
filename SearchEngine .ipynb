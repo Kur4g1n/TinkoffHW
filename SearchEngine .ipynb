{
  "cells": [
    {
      "cell_type": "code",
      "execution_count": 65,
      "metadata": {
        "id": "sYhRMNvwCsP9"
      },
      "outputs": [],
      "source": [
        "import pandas as pd\n",
        "import numpy as np\n",
        "import pickle\n",
        "from nltk.corpus import stopwords\n",
        "import nltk\n",
        "from sklearn.feature_extraction.text import TfidfVectorizer\n",
        "from sklearn.linear_model import LinearRegression\n",
        "import re\n",
        "from nltk.stem import SnowballStemmer\n",
        "from sklearn.metrics import ndcg_score, make_scorer\n",
        "from sklearn.model_selection import cross_val_score, train_test_split"
      ]
    },
    {
      "cell_type": "markdown",
      "metadata": {
        "id": "VZsw_OORB1Eu"
      },
      "source": [
        "**Обработка данных**"
      ]
    },
    {
      "cell_type": "markdown",
      "metadata": {
        "id": "i4CGnFf5CJDn"
      },
      "source": [
        "Исходный датасет - https://www.kaggle.com/neisse/scrapped-lyrics-from-6-genres\n",
        "\n",
        "(Датасет с текстами песен 6 различных жанров)\n",
        "\n",
        "Состоит из 2 файлов:\n",
        "\n",
        "1)Название песни, её текст, язык\n",
        "\n",
        "2)Исполнитель, количество песен, популярность, жанр..."
      ]
    },
    {
      "cell_type": "code",
      "source": [
        "data = pd.read_csv('lyrics-data.csv')\n",
        "data.head()"
      ],
      "metadata": {
        "colab": {
          "base_uri": "https://localhost:8080/",
          "height": 206
        },
        "id": "z2xoV7evP7st",
        "outputId": "b645a569-4a06-4632-9b0b-d9ce5688e2fe"
      },
      "execution_count": 2,
      "outputs": [
        {
          "output_type": "execute_result",
          "data": {
            "text/html": [
              "\n",
              "  <div id=\"df-1d20e339-a45c-4bb9-b7f9-627d51c9da2d\">\n",
              "    <div class=\"colab-df-container\">\n",
              "      <div>\n",
              "<style scoped>\n",
              "    .dataframe tbody tr th:only-of-type {\n",
              "        vertical-align: middle;\n",
              "    }\n",
              "\n",
              "    .dataframe tbody tr th {\n",
              "        vertical-align: top;\n",
              "    }\n",
              "\n",
              "    .dataframe thead th {\n",
              "        text-align: right;\n",
              "    }\n",
              "</style>\n",
              "<table border=\"1\" class=\"dataframe\">\n",
              "  <thead>\n",
              "    <tr style=\"text-align: right;\">\n",
              "      <th></th>\n",
              "      <th>ALink</th>\n",
              "      <th>SName</th>\n",
              "      <th>SLink</th>\n",
              "      <th>Lyric</th>\n",
              "      <th>Idiom</th>\n",
              "    </tr>\n",
              "  </thead>\n",
              "  <tbody>\n",
              "    <tr>\n",
              "      <th>0</th>\n",
              "      <td>/10000-maniacs/</td>\n",
              "      <td>More Than This</td>\n",
              "      <td>/10000-maniacs/more-than-this.html</td>\n",
              "      <td>I could feel at the time. There was no way of ...</td>\n",
              "      <td>ENGLISH</td>\n",
              "    </tr>\n",
              "    <tr>\n",
              "      <th>1</th>\n",
              "      <td>/10000-maniacs/</td>\n",
              "      <td>Because The Night</td>\n",
              "      <td>/10000-maniacs/because-the-night.html</td>\n",
              "      <td>Take me now, baby, here as I am. Hold me close...</td>\n",
              "      <td>ENGLISH</td>\n",
              "    </tr>\n",
              "    <tr>\n",
              "      <th>2</th>\n",
              "      <td>/10000-maniacs/</td>\n",
              "      <td>These Are Days</td>\n",
              "      <td>/10000-maniacs/these-are-days.html</td>\n",
              "      <td>These are. These are days you'll remember. Nev...</td>\n",
              "      <td>ENGLISH</td>\n",
              "    </tr>\n",
              "    <tr>\n",
              "      <th>3</th>\n",
              "      <td>/10000-maniacs/</td>\n",
              "      <td>A Campfire Song</td>\n",
              "      <td>/10000-maniacs/a-campfire-song.html</td>\n",
              "      <td>A lie to say, \"O my mountain has coal veins an...</td>\n",
              "      <td>ENGLISH</td>\n",
              "    </tr>\n",
              "    <tr>\n",
              "      <th>4</th>\n",
              "      <td>/10000-maniacs/</td>\n",
              "      <td>Everyday Is Like Sunday</td>\n",
              "      <td>/10000-maniacs/everyday-is-like-sunday.html</td>\n",
              "      <td>Trudging slowly over wet sand. Back to the ben...</td>\n",
              "      <td>ENGLISH</td>\n",
              "    </tr>\n",
              "  </tbody>\n",
              "</table>\n",
              "</div>\n",
              "      <button class=\"colab-df-convert\" onclick=\"convertToInteractive('df-1d20e339-a45c-4bb9-b7f9-627d51c9da2d')\"\n",
              "              title=\"Convert this dataframe to an interactive table.\"\n",
              "              style=\"display:none;\">\n",
              "        \n",
              "  <svg xmlns=\"http://www.w3.org/2000/svg\" height=\"24px\"viewBox=\"0 0 24 24\"\n",
              "       width=\"24px\">\n",
              "    <path d=\"M0 0h24v24H0V0z\" fill=\"none\"/>\n",
              "    <path d=\"M18.56 5.44l.94 2.06.94-2.06 2.06-.94-2.06-.94-.94-2.06-.94 2.06-2.06.94zm-11 1L8.5 8.5l.94-2.06 2.06-.94-2.06-.94L8.5 2.5l-.94 2.06-2.06.94zm10 10l.94 2.06.94-2.06 2.06-.94-2.06-.94-.94-2.06-.94 2.06-2.06.94z\"/><path d=\"M17.41 7.96l-1.37-1.37c-.4-.4-.92-.59-1.43-.59-.52 0-1.04.2-1.43.59L10.3 9.45l-7.72 7.72c-.78.78-.78 2.05 0 2.83L4 21.41c.39.39.9.59 1.41.59.51 0 1.02-.2 1.41-.59l7.78-7.78 2.81-2.81c.8-.78.8-2.07 0-2.86zM5.41 20L4 18.59l7.72-7.72 1.47 1.35L5.41 20z\"/>\n",
              "  </svg>\n",
              "      </button>\n",
              "      \n",
              "  <style>\n",
              "    .colab-df-container {\n",
              "      display:flex;\n",
              "      flex-wrap:wrap;\n",
              "      gap: 12px;\n",
              "    }\n",
              "\n",
              "    .colab-df-convert {\n",
              "      background-color: #E8F0FE;\n",
              "      border: none;\n",
              "      border-radius: 50%;\n",
              "      cursor: pointer;\n",
              "      display: none;\n",
              "      fill: #1967D2;\n",
              "      height: 32px;\n",
              "      padding: 0 0 0 0;\n",
              "      width: 32px;\n",
              "    }\n",
              "\n",
              "    .colab-df-convert:hover {\n",
              "      background-color: #E2EBFA;\n",
              "      box-shadow: 0px 1px 2px rgba(60, 64, 67, 0.3), 0px 1px 3px 1px rgba(60, 64, 67, 0.15);\n",
              "      fill: #174EA6;\n",
              "    }\n",
              "\n",
              "    [theme=dark] .colab-df-convert {\n",
              "      background-color: #3B4455;\n",
              "      fill: #D2E3FC;\n",
              "    }\n",
              "\n",
              "    [theme=dark] .colab-df-convert:hover {\n",
              "      background-color: #434B5C;\n",
              "      box-shadow: 0px 1px 3px 1px rgba(0, 0, 0, 0.15);\n",
              "      filter: drop-shadow(0px 1px 2px rgba(0, 0, 0, 0.3));\n",
              "      fill: #FFFFFF;\n",
              "    }\n",
              "  </style>\n",
              "\n",
              "      <script>\n",
              "        const buttonEl =\n",
              "          document.querySelector('#df-1d20e339-a45c-4bb9-b7f9-627d51c9da2d button.colab-df-convert');\n",
              "        buttonEl.style.display =\n",
              "          google.colab.kernel.accessAllowed ? 'block' : 'none';\n",
              "\n",
              "        async function convertToInteractive(key) {\n",
              "          const element = document.querySelector('#df-1d20e339-a45c-4bb9-b7f9-627d51c9da2d');\n",
              "          const dataTable =\n",
              "            await google.colab.kernel.invokeFunction('convertToInteractive',\n",
              "                                                     [key], {});\n",
              "          if (!dataTable) return;\n",
              "\n",
              "          const docLinkHtml = 'Like what you see? Visit the ' +\n",
              "            '<a target=\"_blank\" href=https://colab.research.google.com/notebooks/data_table.ipynb>data table notebook</a>'\n",
              "            + ' to learn more about interactive tables.';\n",
              "          element.innerHTML = '';\n",
              "          dataTable['output_type'] = 'display_data';\n",
              "          await google.colab.output.renderOutput(dataTable, element);\n",
              "          const docLink = document.createElement('div');\n",
              "          docLink.innerHTML = docLinkHtml;\n",
              "          element.appendChild(docLink);\n",
              "        }\n",
              "      </script>\n",
              "    </div>\n",
              "  </div>\n",
              "  "
            ],
            "text/plain": [
              "             ALink  ...    Idiom\n",
              "0  /10000-maniacs/  ...  ENGLISH\n",
              "1  /10000-maniacs/  ...  ENGLISH\n",
              "2  /10000-maniacs/  ...  ENGLISH\n",
              "3  /10000-maniacs/  ...  ENGLISH\n",
              "4  /10000-maniacs/  ...  ENGLISH\n",
              "\n",
              "[5 rows x 5 columns]"
            ]
          },
          "metadata": {},
          "execution_count": 2
        }
      ]
    },
    {
      "cell_type": "code",
      "source": [
        "artist_data = pd.read_csv('artists-data.csv')\n",
        "artist_data.head()"
      ],
      "metadata": {
        "colab": {
          "base_uri": "https://localhost:8080/",
          "height": 206
        },
        "id": "iQuJT1uTSm-3",
        "outputId": "2f7c7c07-045f-490f-85d2-905b618b8c24"
      },
      "execution_count": 3,
      "outputs": [
        {
          "output_type": "execute_result",
          "data": {
            "text/html": [
              "\n",
              "  <div id=\"df-9593abd2-4e84-4a81-a130-b25b44f75d4c\">\n",
              "    <div class=\"colab-df-container\">\n",
              "      <div>\n",
              "<style scoped>\n",
              "    .dataframe tbody tr th:only-of-type {\n",
              "        vertical-align: middle;\n",
              "    }\n",
              "\n",
              "    .dataframe tbody tr th {\n",
              "        vertical-align: top;\n",
              "    }\n",
              "\n",
              "    .dataframe thead th {\n",
              "        text-align: right;\n",
              "    }\n",
              "</style>\n",
              "<table border=\"1\" class=\"dataframe\">\n",
              "  <thead>\n",
              "    <tr style=\"text-align: right;\">\n",
              "      <th></th>\n",
              "      <th>Artist</th>\n",
              "      <th>Songs</th>\n",
              "      <th>Popularity</th>\n",
              "      <th>Link</th>\n",
              "      <th>Genre</th>\n",
              "      <th>Genres</th>\n",
              "    </tr>\n",
              "  </thead>\n",
              "  <tbody>\n",
              "    <tr>\n",
              "      <th>0</th>\n",
              "      <td>10000 Maniacs</td>\n",
              "      <td>110</td>\n",
              "      <td>0.3</td>\n",
              "      <td>/10000-maniacs/</td>\n",
              "      <td>Rock</td>\n",
              "      <td>Rock; Pop; Electronica; Dance; J-Pop/J-Rock; G...</td>\n",
              "    </tr>\n",
              "    <tr>\n",
              "      <th>1</th>\n",
              "      <td>12 Stones</td>\n",
              "      <td>75</td>\n",
              "      <td>0.3</td>\n",
              "      <td>/12-stones/</td>\n",
              "      <td>Rock</td>\n",
              "      <td>Rock; Gospel/Religioso; Hard Rock; Grunge; Roc...</td>\n",
              "    </tr>\n",
              "    <tr>\n",
              "      <th>2</th>\n",
              "      <td>311</td>\n",
              "      <td>196</td>\n",
              "      <td>0.5</td>\n",
              "      <td>/311/</td>\n",
              "      <td>Rock</td>\n",
              "      <td>Rock; Surf Music; Reggae; Ska; Pop/Rock; Rock ...</td>\n",
              "    </tr>\n",
              "    <tr>\n",
              "      <th>3</th>\n",
              "      <td>4 Non Blondes</td>\n",
              "      <td>15</td>\n",
              "      <td>7.5</td>\n",
              "      <td>/4-non-blondes/</td>\n",
              "      <td>Rock</td>\n",
              "      <td>Rock; Pop/Rock; Rock Alternativo; Grunge; Blue...</td>\n",
              "    </tr>\n",
              "    <tr>\n",
              "      <th>4</th>\n",
              "      <td>A Cruz Está Vazia</td>\n",
              "      <td>13</td>\n",
              "      <td>0.0</td>\n",
              "      <td>/a-cruz-esta-vazia/</td>\n",
              "      <td>Rock</td>\n",
              "      <td>Rock</td>\n",
              "    </tr>\n",
              "  </tbody>\n",
              "</table>\n",
              "</div>\n",
              "      <button class=\"colab-df-convert\" onclick=\"convertToInteractive('df-9593abd2-4e84-4a81-a130-b25b44f75d4c')\"\n",
              "              title=\"Convert this dataframe to an interactive table.\"\n",
              "              style=\"display:none;\">\n",
              "        \n",
              "  <svg xmlns=\"http://www.w3.org/2000/svg\" height=\"24px\"viewBox=\"0 0 24 24\"\n",
              "       width=\"24px\">\n",
              "    <path d=\"M0 0h24v24H0V0z\" fill=\"none\"/>\n",
              "    <path d=\"M18.56 5.44l.94 2.06.94-2.06 2.06-.94-2.06-.94-.94-2.06-.94 2.06-2.06.94zm-11 1L8.5 8.5l.94-2.06 2.06-.94-2.06-.94L8.5 2.5l-.94 2.06-2.06.94zm10 10l.94 2.06.94-2.06 2.06-.94-2.06-.94-.94-2.06-.94 2.06-2.06.94z\"/><path d=\"M17.41 7.96l-1.37-1.37c-.4-.4-.92-.59-1.43-.59-.52 0-1.04.2-1.43.59L10.3 9.45l-7.72 7.72c-.78.78-.78 2.05 0 2.83L4 21.41c.39.39.9.59 1.41.59.51 0 1.02-.2 1.41-.59l7.78-7.78 2.81-2.81c.8-.78.8-2.07 0-2.86zM5.41 20L4 18.59l7.72-7.72 1.47 1.35L5.41 20z\"/>\n",
              "  </svg>\n",
              "      </button>\n",
              "      \n",
              "  <style>\n",
              "    .colab-df-container {\n",
              "      display:flex;\n",
              "      flex-wrap:wrap;\n",
              "      gap: 12px;\n",
              "    }\n",
              "\n",
              "    .colab-df-convert {\n",
              "      background-color: #E8F0FE;\n",
              "      border: none;\n",
              "      border-radius: 50%;\n",
              "      cursor: pointer;\n",
              "      display: none;\n",
              "      fill: #1967D2;\n",
              "      height: 32px;\n",
              "      padding: 0 0 0 0;\n",
              "      width: 32px;\n",
              "    }\n",
              "\n",
              "    .colab-df-convert:hover {\n",
              "      background-color: #E2EBFA;\n",
              "      box-shadow: 0px 1px 2px rgba(60, 64, 67, 0.3), 0px 1px 3px 1px rgba(60, 64, 67, 0.15);\n",
              "      fill: #174EA6;\n",
              "    }\n",
              "\n",
              "    [theme=dark] .colab-df-convert {\n",
              "      background-color: #3B4455;\n",
              "      fill: #D2E3FC;\n",
              "    }\n",
              "\n",
              "    [theme=dark] .colab-df-convert:hover {\n",
              "      background-color: #434B5C;\n",
              "      box-shadow: 0px 1px 3px 1px rgba(0, 0, 0, 0.15);\n",
              "      filter: drop-shadow(0px 1px 2px rgba(0, 0, 0, 0.3));\n",
              "      fill: #FFFFFF;\n",
              "    }\n",
              "  </style>\n",
              "\n",
              "      <script>\n",
              "        const buttonEl =\n",
              "          document.querySelector('#df-9593abd2-4e84-4a81-a130-b25b44f75d4c button.colab-df-convert');\n",
              "        buttonEl.style.display =\n",
              "          google.colab.kernel.accessAllowed ? 'block' : 'none';\n",
              "\n",
              "        async function convertToInteractive(key) {\n",
              "          const element = document.querySelector('#df-9593abd2-4e84-4a81-a130-b25b44f75d4c');\n",
              "          const dataTable =\n",
              "            await google.colab.kernel.invokeFunction('convertToInteractive',\n",
              "                                                     [key], {});\n",
              "          if (!dataTable) return;\n",
              "\n",
              "          const docLinkHtml = 'Like what you see? Visit the ' +\n",
              "            '<a target=\"_blank\" href=https://colab.research.google.com/notebooks/data_table.ipynb>data table notebook</a>'\n",
              "            + ' to learn more about interactive tables.';\n",
              "          element.innerHTML = '';\n",
              "          dataTable['output_type'] = 'display_data';\n",
              "          await google.colab.output.renderOutput(dataTable, element);\n",
              "          const docLink = document.createElement('div');\n",
              "          docLink.innerHTML = docLinkHtml;\n",
              "          element.appendChild(docLink);\n",
              "        }\n",
              "      </script>\n",
              "    </div>\n",
              "  </div>\n",
              "  "
            ],
            "text/plain": [
              "              Artist  ...                                             Genres\n",
              "0      10000 Maniacs  ...  Rock; Pop; Electronica; Dance; J-Pop/J-Rock; G...\n",
              "1          12 Stones  ...  Rock; Gospel/Religioso; Hard Rock; Grunge; Roc...\n",
              "2                311  ...  Rock; Surf Music; Reggae; Ska; Pop/Rock; Rock ...\n",
              "3      4 Non Blondes  ...  Rock; Pop/Rock; Rock Alternativo; Grunge; Blue...\n",
              "4  A Cruz Está Vazia  ...                                               Rock\n",
              "\n",
              "[5 rows x 6 columns]"
            ]
          },
          "metadata": {},
          "execution_count": 3
        }
      ]
    },
    {
      "cell_type": "markdown",
      "source": [
        "Из всех данных нас интересует только название песни, текст, и исполнитель."
      ],
      "metadata": {
        "id": "H_l-CqfDUVTq"
      }
    },
    {
      "cell_type": "code",
      "source": [
        "data = pd.merge(data, artist_data, left_on = 'ALink', right_on = 'Link', how = 'inner')[['SName', 'Lyric', 'Artist']].drop_duplicates(keep='first')\n",
        "data.head()"
      ],
      "metadata": {
        "colab": {
          "base_uri": "https://localhost:8080/",
          "height": 206
        },
        "id": "QS0mwKP2RBzV",
        "outputId": "b2f87c22-bc77-43d7-ef59-4a2b80039eae"
      },
      "execution_count": 4,
      "outputs": [
        {
          "output_type": "execute_result",
          "data": {
            "text/html": [
              "\n",
              "  <div id=\"df-b7cf3fc4-0462-4420-bf4b-623dfb0badb8\">\n",
              "    <div class=\"colab-df-container\">\n",
              "      <div>\n",
              "<style scoped>\n",
              "    .dataframe tbody tr th:only-of-type {\n",
              "        vertical-align: middle;\n",
              "    }\n",
              "\n",
              "    .dataframe tbody tr th {\n",
              "        vertical-align: top;\n",
              "    }\n",
              "\n",
              "    .dataframe thead th {\n",
              "        text-align: right;\n",
              "    }\n",
              "</style>\n",
              "<table border=\"1\" class=\"dataframe\">\n",
              "  <thead>\n",
              "    <tr style=\"text-align: right;\">\n",
              "      <th></th>\n",
              "      <th>SName</th>\n",
              "      <th>Lyric</th>\n",
              "      <th>Artist</th>\n",
              "    </tr>\n",
              "  </thead>\n",
              "  <tbody>\n",
              "    <tr>\n",
              "      <th>0</th>\n",
              "      <td>More Than This</td>\n",
              "      <td>I could feel at the time. There was no way of ...</td>\n",
              "      <td>10000 Maniacs</td>\n",
              "    </tr>\n",
              "    <tr>\n",
              "      <th>2</th>\n",
              "      <td>Because The Night</td>\n",
              "      <td>Take me now, baby, here as I am. Hold me close...</td>\n",
              "      <td>10000 Maniacs</td>\n",
              "    </tr>\n",
              "    <tr>\n",
              "      <th>4</th>\n",
              "      <td>These Are Days</td>\n",
              "      <td>These are. These are days you'll remember. Nev...</td>\n",
              "      <td>10000 Maniacs</td>\n",
              "    </tr>\n",
              "    <tr>\n",
              "      <th>6</th>\n",
              "      <td>A Campfire Song</td>\n",
              "      <td>A lie to say, \"O my mountain has coal veins an...</td>\n",
              "      <td>10000 Maniacs</td>\n",
              "    </tr>\n",
              "    <tr>\n",
              "      <th>8</th>\n",
              "      <td>Everyday Is Like Sunday</td>\n",
              "      <td>Trudging slowly over wet sand. Back to the ben...</td>\n",
              "      <td>10000 Maniacs</td>\n",
              "    </tr>\n",
              "  </tbody>\n",
              "</table>\n",
              "</div>\n",
              "      <button class=\"colab-df-convert\" onclick=\"convertToInteractive('df-b7cf3fc4-0462-4420-bf4b-623dfb0badb8')\"\n",
              "              title=\"Convert this dataframe to an interactive table.\"\n",
              "              style=\"display:none;\">\n",
              "        \n",
              "  <svg xmlns=\"http://www.w3.org/2000/svg\" height=\"24px\"viewBox=\"0 0 24 24\"\n",
              "       width=\"24px\">\n",
              "    <path d=\"M0 0h24v24H0V0z\" fill=\"none\"/>\n",
              "    <path d=\"M18.56 5.44l.94 2.06.94-2.06 2.06-.94-2.06-.94-.94-2.06-.94 2.06-2.06.94zm-11 1L8.5 8.5l.94-2.06 2.06-.94-2.06-.94L8.5 2.5l-.94 2.06-2.06.94zm10 10l.94 2.06.94-2.06 2.06-.94-2.06-.94-.94-2.06-.94 2.06-2.06.94z\"/><path d=\"M17.41 7.96l-1.37-1.37c-.4-.4-.92-.59-1.43-.59-.52 0-1.04.2-1.43.59L10.3 9.45l-7.72 7.72c-.78.78-.78 2.05 0 2.83L4 21.41c.39.39.9.59 1.41.59.51 0 1.02-.2 1.41-.59l7.78-7.78 2.81-2.81c.8-.78.8-2.07 0-2.86zM5.41 20L4 18.59l7.72-7.72 1.47 1.35L5.41 20z\"/>\n",
              "  </svg>\n",
              "      </button>\n",
              "      \n",
              "  <style>\n",
              "    .colab-df-container {\n",
              "      display:flex;\n",
              "      flex-wrap:wrap;\n",
              "      gap: 12px;\n",
              "    }\n",
              "\n",
              "    .colab-df-convert {\n",
              "      background-color: #E8F0FE;\n",
              "      border: none;\n",
              "      border-radius: 50%;\n",
              "      cursor: pointer;\n",
              "      display: none;\n",
              "      fill: #1967D2;\n",
              "      height: 32px;\n",
              "      padding: 0 0 0 0;\n",
              "      width: 32px;\n",
              "    }\n",
              "\n",
              "    .colab-df-convert:hover {\n",
              "      background-color: #E2EBFA;\n",
              "      box-shadow: 0px 1px 2px rgba(60, 64, 67, 0.3), 0px 1px 3px 1px rgba(60, 64, 67, 0.15);\n",
              "      fill: #174EA6;\n",
              "    }\n",
              "\n",
              "    [theme=dark] .colab-df-convert {\n",
              "      background-color: #3B4455;\n",
              "      fill: #D2E3FC;\n",
              "    }\n",
              "\n",
              "    [theme=dark] .colab-df-convert:hover {\n",
              "      background-color: #434B5C;\n",
              "      box-shadow: 0px 1px 3px 1px rgba(0, 0, 0, 0.15);\n",
              "      filter: drop-shadow(0px 1px 2px rgba(0, 0, 0, 0.3));\n",
              "      fill: #FFFFFF;\n",
              "    }\n",
              "  </style>\n",
              "\n",
              "      <script>\n",
              "        const buttonEl =\n",
              "          document.querySelector('#df-b7cf3fc4-0462-4420-bf4b-623dfb0badb8 button.colab-df-convert');\n",
              "        buttonEl.style.display =\n",
              "          google.colab.kernel.accessAllowed ? 'block' : 'none';\n",
              "\n",
              "        async function convertToInteractive(key) {\n",
              "          const element = document.querySelector('#df-b7cf3fc4-0462-4420-bf4b-623dfb0badb8');\n",
              "          const dataTable =\n",
              "            await google.colab.kernel.invokeFunction('convertToInteractive',\n",
              "                                                     [key], {});\n",
              "          if (!dataTable) return;\n",
              "\n",
              "          const docLinkHtml = 'Like what you see? Visit the ' +\n",
              "            '<a target=\"_blank\" href=https://colab.research.google.com/notebooks/data_table.ipynb>data table notebook</a>'\n",
              "            + ' to learn more about interactive tables.';\n",
              "          element.innerHTML = '';\n",
              "          dataTable['output_type'] = 'display_data';\n",
              "          await google.colab.output.renderOutput(dataTable, element);\n",
              "          const docLink = document.createElement('div');\n",
              "          docLink.innerHTML = docLinkHtml;\n",
              "          element.appendChild(docLink);\n",
              "        }\n",
              "      </script>\n",
              "    </div>\n",
              "  </div>\n",
              "  "
            ],
            "text/plain": [
              "                     SName  ...         Artist\n",
              "0           More Than This  ...  10000 Maniacs\n",
              "2        Because The Night  ...  10000 Maniacs\n",
              "4           These Are Days  ...  10000 Maniacs\n",
              "6          A Campfire Song  ...  10000 Maniacs\n",
              "8  Everyday Is Like Sunday  ...  10000 Maniacs\n",
              "\n",
              "[5 rows x 3 columns]"
            ]
          },
          "metadata": {},
          "execution_count": 4
        }
      ]
    },
    {
      "cell_type": "markdown",
      "source": [
        "Предобработаем данные сразу, чтобы загружать их из файла при запуске сервера"
      ],
      "metadata": {
        "id": "LESX8xJKUfb-"
      }
    },
    {
      "cell_type": "code",
      "source": [
        "class Document:\n",
        "    def __init__(self, title, text):\n",
        "        self.title = title\n",
        "        self.text = text\n",
        "\n",
        "    def format(self, query):\n",
        "        return [self.title, self.text[:200] + ' ...']"
      ],
      "metadata": {
        "id": "e-VW45I1TwGm"
      },
      "execution_count": 5,
      "outputs": []
    },
    {
      "cell_type": "code",
      "source": [
        "# У загрузки данных в функции build_index будет похожая реализация\n",
        "documents = [Document(str(row['SName']) + ' - ' + str(row['Artist']), \n",
        "                      str(row['Lyric'])) for index, row in data.iterrows()]"
      ],
      "metadata": {
        "id": "iBoeMV6hZz6T"
      },
      "execution_count": 37,
      "outputs": []
    },
    {
      "cell_type": "markdown",
      "source": [
        "**Индекс**"
      ],
      "metadata": {
        "id": "X7x2DkqaNPiY"
      }
    },
    {
      "cell_type": "markdown",
      "source": [
        "Реализуем инверированный индекс с удалением \"стоп-слов\""
      ],
      "metadata": {
        "id": "h1DzDAl1ODZI"
      }
    },
    {
      "cell_type": "code",
      "source": [
        "nltk.download('stopwords')\n",
        "sw_eng = stopwords.words('english')\n",
        "stemmer = SnowballStemmer(language='english')"
      ],
      "metadata": {
        "colab": {
          "base_uri": "https://localhost:8080/"
        },
        "id": "AkaKS03Ea0Th",
        "outputId": "d4640672-e376-4458-d34a-17d6348bcea1"
      },
      "execution_count": 47,
      "outputs": [
        {
          "output_type": "stream",
          "name": "stdout",
          "text": [
            "[nltk_data] Downloading package stopwords to /root/nltk_data...\n",
            "[nltk_data]   Package stopwords is already up-to-date!\n"
          ]
        }
      ]
    },
    {
      "cell_type": "code",
      "source": [
        "# У индекса в функции build_index будет похожая реализация\n",
        "index = {}\n",
        "text = []     \n",
        "for idx, doc in enumerate(documents):\n",
        "    text.append('')\n",
        "    for word in set(re.split(r'[^a-z0-9]', (doc.title + ' ' + doc.text).lower())):\n",
        "        if word not in sw_eng:\n",
        "            stemmed_word = stemmer.stem(word)\n",
        "            text[idx]+=stemmed_word + ' '\n",
        "            if stemmed_word not in index:\n",
        "                index[stemmed_word] = []\n",
        "            index[stemmed_word].append(idx)\n",
        "with open('index.pickle', \"wb\") as f:\n",
        "    pickle.dump((documents, index), f)"
      ],
      "metadata": {
        "id": "zGuM61WZMD2M"
      },
      "execution_count": 48,
      "outputs": []
    },
    {
      "cell_type": "markdown",
      "source": [
        "Сохраним данные и индекс"
      ],
      "metadata": {
        "id": "WosEUitxNYV7"
      }
    },
    {
      "cell_type": "code",
      "source": [
        "with open('index.pickle', \"wb\") as f:\n",
        "    pickle.dump((documents, index, text), f)"
      ],
      "metadata": {
        "id": "X7B3vQLtNXzg"
      },
      "execution_count": 11,
      "outputs": []
    },
    {
      "cell_type": "markdown",
      "source": [
        "Реализация функции retrieve с использованием инвертированного индекса"
      ],
      "metadata": {
        "id": "GXPnFEoEQR62"
      }
    },
    {
      "cell_type": "code",
      "source": [
        "def retrieve(query):\n",
        "    keywords = [stemmer.stem(word) for word in re.split(r'[^a-z0-9]', query.lower()) if word not in sw_eng]\n",
        "    keywords = list(set(index.keys()).intersection(keywords))\n",
        "    if len(keywords) == 0:\n",
        "        return documents[:50], [range(50)]\n",
        "    s = set(index[keywords[0]])\n",
        "    for word in keywords[1:]:\n",
        "        s = s.intersection(index[word])\n",
        "\n",
        "    candidates = [documents[i] for i in s]\n",
        "    return candidates[:50], list(s)[:50]"
      ],
      "metadata": {
        "id": "lWHxUsOLQKeH"
      },
      "execution_count": 49,
      "outputs": []
    },
    {
      "cell_type": "markdown",
      "source": [
        "**Ранжирование**"
      ],
      "metadata": {
        "id": "z1PLsrB2NvL6"
      }
    },
    {
      "cell_type": "code",
      "source": [
        "tfv = TfidfVectorizer(stop_words='english')\n",
        "tfv.fit(text)"
      ],
      "metadata": {
        "colab": {
          "base_uri": "https://localhost:8080/"
        },
        "id": "9_otP5eie7BG",
        "outputId": "1909bc9f-c7eb-4447-f935-a288c21fa423"
      },
      "execution_count": 50,
      "outputs": [
        {
          "output_type": "execute_result",
          "data": {
            "text/plain": [
              "TfidfVectorizer(stop_words='english')"
            ]
          },
          "metadata": {},
          "execution_count": 50
        }
      ]
    },
    {
      "cell_type": "code",
      "source": [
        "def transform_data(query):\n",
        "    docs, indexes = retrieve(query)\n",
        "    texts = [text[i] for i in indexes]\n",
        "    intersections = []\n",
        "    keywords = [stemmer.stem(word) for word in re.split(r'[^a-z0-9]', query.lower()) if word not in sw_eng]\n",
        "    for i in indexes:\n",
        "        intersections.append(' '.join(set(text[i].split()).intersection(keywords)))\n",
        "    return 2*tfv.transform(intersections).toarray()+tfv.transform(texts).toarray()"
      ],
      "metadata": {
        "id": "RP7I9fQcgpE4"
      },
      "execution_count": 76,
      "outputs": []
    },
    {
      "cell_type": "code",
      "source": [
        "x = np.vstack((transform_data('Iron Maiden'), transform_data('For the Greater Good of God')))\n",
        "x = np.vstack((x, transform_data('For the Greater Good of God')))\n",
        "x = np.vstack((x, transform_data('Cats and Dogs')))\n",
        "x = np.vstack((x, transform_data('seaside song')))\n",
        "x = np.vstack((x, transform_data('Stairway To Heaven')))\n",
        "x = np.vstack((x, transform_data('Lost in America')))\n",
        "x = np.vstack((x, transform_data('The Best of Both Worlds')))\n",
        "x = np.vstack((x, transform_data('red hot fortune')))\n",
        "x = np.vstack((x, transform_data('The Unforgiven')))\n",
        "x = np.vstack((x, transform_data('Nothing Else Matters')))\n",
        "x = np.vstack((x, transform_data('Fade To Black')))\n",
        "x = np.vstack((x, transform_data('dump spend give try')))\n",
        "ratings = '1111111444444444445444444444444444444444444444444422121222512222222222222222222222222222222222222222222222222223224241122211121111441142211151421331222211511112211121222223333221212233222222211211111122222121222222222222222222222221222222222222252222222112224222124132222222222225222522521222211211111111111112212111111111211111111111122111121111111221211111221111111121111211111111112111111111232412'\n",
        "\n",
        "y = [int(i) for i in ratings]\n",
        "x.shape, len(y)"
      ],
      "metadata": {
        "colab": {
          "base_uri": "https://localhost:8080/"
        },
        "id": "XnLDiZ8sr0EJ",
        "outputId": "ea449d9f-fddb-42ff-dcd0-1cd7486ce5d4"
      },
      "execution_count": 80,
      "outputs": [
        {
          "output_type": "execute_result",
          "data": {
            "text/plain": [
              "((400, 221169), 400)"
            ]
          },
          "metadata": {},
          "execution_count": 80
        }
      ]
    },
    {
      "cell_type": "code",
      "source": [
        "x_train, x_test, y_train, y_test = train_test_split(x, y, shuffle = True, test_size = 0.05)"
      ],
      "metadata": {
        "id": "rQRt9UTVdes8"
      },
      "execution_count": 84,
      "outputs": []
    },
    {
      "cell_type": "code",
      "source": [
        "lr = LinearRegression()\n",
        "lr.fit(x_train, y_train)"
      ],
      "metadata": {
        "colab": {
          "base_uri": "https://localhost:8080/"
        },
        "id": "dyfXEwpyZKUm",
        "outputId": "bd678a51-85ae-4177-9333-22e911c0932f"
      },
      "execution_count": 85,
      "outputs": [
        {
          "output_type": "execute_result",
          "data": {
            "text/plain": [
              "LinearRegression()"
            ]
          },
          "metadata": {},
          "execution_count": 85
        }
      ]
    },
    {
      "cell_type": "code",
      "source": [
        "y_pred = np.array(lr.predict(x_test))\n",
        "ndcg_score(np.array(y_test)[np.newaxis], y_pred[np.newaxis])"
      ],
      "metadata": {
        "colab": {
          "base_uri": "https://localhost:8080/"
        },
        "id": "8Z4IXvp5d1yq",
        "outputId": "70c1d2b7-cc7f-426c-dd27-d02ca7559127"
      },
      "execution_count": 98,
      "outputs": [
        {
          "output_type": "execute_result",
          "data": {
            "text/plain": [
              "0.7245162610482105"
            ]
          },
          "metadata": {},
          "execution_count": 98
        }
      ]
    },
    {
      "cell_type": "code",
      "source": [
        "with open('model.pickle', \"wb\") as f:\n",
        "  pickle.dump((lr, tfv), f)"
      ],
      "metadata": {
        "id": "aIlE2ZZUjAio"
      },
      "execution_count": 102,
      "outputs": []
    }
  ],
  "metadata": {
    "colab": {
      "collapsed_sections": [],
      "name": "SearchEngine.ipynb",
      "provenance": []
    },
    "kernelspec": {
      "display_name": "Python 3",
      "name": "python3"
    },
    "language_info": {
      "name": "python"
    },
    "accelerator": "TPU"
  },
  "nbformat": 4,
  "nbformat_minor": 0
}